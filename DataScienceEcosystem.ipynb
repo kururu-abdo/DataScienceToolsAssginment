{
 "cells": [
  {
   "cell_type": "markdown",
   "id": "34e6f150-efb3-4ddd-b6a5-5f15d5e7c342",
   "metadata": {
    "tags": []
   },
   "source": [
    "<h1>Data Science Tools and Ecosystem</h1>\n"
   ]
  },
  {
   "cell_type": "markdown",
   "id": "9eb1d55d-cb87-45de-addf-a93b16eefe89",
   "metadata": {},
   "source": [
    "In this notebook, Data Science Tools and Ecosystem are summarized."
   ]
  },
  {
   "cell_type": "markdown",
   "id": "0a203cc4-3076-4eaf-8e2f-720a7e9f3d7f",
   "metadata": {},
   "source": [
    "<h3>Some of the popular languages that Data Scientists use are:</h3>\n",
    "\n",
    "<ol>        \n",
    "    <li> Python</li>\n",
    "    <li> R </li>\n",
    "    <li> Java </li>\n",
    "\n",
    "</ol>\n"
   ]
  },
  {
   "cell_type": "markdown",
   "id": "00abb452-fd64-4750-bb64-c32aa4819bb3",
   "metadata": {},
   "source": [
    "<h3> Some of the commonly used libraries used by Data Scientists include:  </h3>\n",
    "\n",
    "<ol>\n",
    "    <li>Scikit-learn </li>\n",
    "    <li>TensorFlow</li>\n",
    "     <li> kares </li>\n",
    "    \n",
    "    \n",
    "</ol>\n",
    "\n"
   ]
  },
  {
   "cell_type": "markdown",
   "id": "310942fa-0dc4-4f2a-8c6e-c7bc871d237d",
   "metadata": {},
   "source": [
    "<table style=\"width:20%\">\n",
    "<tr>\n",
    "<th> Data Science Tools</th>\n",
    "\n",
    "</tr>\n",
    "\n",
    "<tr>\n",
    "<td>Aache Spark</td>\n",
    "\n",
    "</tr>\n",
    "    \n",
    "<tr>\n",
    "<td>Apache Kafka</td>\n",
    "\n",
    "</tr>    \n",
    "    \n",
    "  <tr>\n",
    "<td>Apache Hadoop</td>\n",
    "\n",
    "</tr>  \n",
    "    \n",
    " </table>   "
   ]
  },
  {
   "cell_type": "markdown",
   "id": "8c2e9adc-ff38-4a7b-aa3a-354c9d929ef9",
   "metadata": {
    "tags": []
   },
   "source": [
    "<h3>  Below are a few examples of evaluating arithmetic expressions in Python </h3>"
   ]
  },
  {
   "cell_type": "code",
   "execution_count": 4,
   "id": "96345ed9-eae8-4647-96ee-cd71d3a653b9",
   "metadata": {
    "tags": []
   },
   "outputs": [
    {
     "data": {
      "text/plain": [
       "17"
      ]
     },
     "execution_count": 4,
     "metadata": {},
     "output_type": "execute_result"
    }
   ],
   "source": [
    "#This a simple arithmetic expression to mutiply then add integers\n",
    "(3*4)+5"
   ]
  },
  {
   "cell_type": "code",
   "execution_count": 6,
   "id": "1f8f4b57-3a10-4d83-87ce-fbe9de190cb2",
   "metadata": {
    "tags": []
   },
   "outputs": [
    {
     "data": {
      "text/plain": [
       "3"
      ]
     },
     "execution_count": 6,
     "metadata": {},
     "output_type": "execute_result"
    }
   ],
   "source": [
    "# This will convert 200 minutes to hours by diving by 60\n",
    "minuts= 200 \n",
    "hours = minuts/60\n",
    "int(hours)"
   ]
  },
  {
   "cell_type": "markdown",
   "id": "69886093-5209-46ed-85a4-3cbfd114b5a1",
   "metadata": {},
   "source": [
    "<b> Objectives: </b>\n",
    "\n",
    "<ul>\n",
    "    <li>Python</li>\n",
    "    <li>R</li>\n",
    "    <li>Julia</li>\n",
    "</ul>    "
   ]
  },
  {
   "cell_type": "markdown",
   "id": "8889d57a-1bb8-4629-bcbd-da9e0cd2e336",
   "metadata": {},
   "source": [
    "<h2> Author </h2>\n",
    "<b style=\"color:blue\">Abdurrahim Hassan Kururu</b>"
   ]
  },
  {
   "cell_type": "code",
   "execution_count": null,
   "id": "6cb7b232-85fb-489d-8b03-5c21f1a69a45",
   "metadata": {},
   "outputs": [],
   "source": []
  }
 ],
 "metadata": {
  "kernelspec": {
   "display_name": "Python",
   "language": "python",
   "name": "conda-env-python-py"
  },
  "language_info": {
   "codemirror_mode": {
    "name": "ipython",
    "version": 3
   },
   "file_extension": ".py",
   "mimetype": "text/x-python",
   "name": "python",
   "nbconvert_exporter": "python",
   "pygments_lexer": "ipython3",
   "version": "3.7.12"
  }
 },
 "nbformat": 4,
 "nbformat_minor": 5
}
